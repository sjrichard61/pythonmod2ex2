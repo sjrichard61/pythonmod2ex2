{
 "cells": [
  {
   "cell_type": "markdown",
   "metadata": {},
   "source": [
    "## Exercises\n",
    "### Write the pseudocode for these problems. \n",
    "\n",
    "#### Define the problem by constructing an IPO diagram showing input, output, and processing steps\n",
    "Ask yourself\n",
    "- What control structures (sequence, selection and repetition) are required?\n",
    "- What variables are required?\n",
    "\n",
    "Show a check of your solution with **test data** for at least **two valid test cases**\n",
    "If you use the numbers provided in the example then the correct pseudocode will calculate the same result.\n",
    "    "
   ]
  },
  {
   "cell_type": "markdown",
   "metadata": {},
   "source": [
    "#### 1. Find the average score\n",
    "A program is needed to prompt the user operator for exam scores, calculate the average score and display the result to the screen. The average score is calculated as the sum of the scores divided by the number of scores."
   ]
  },
  {
   "cell_type": "markdown",
   "metadata": {},
   "source": [
    "INPUT = Exam Scores"
   ]
  },
  {
   "cell_type": "markdown",
   "metadata": {},
   "source": [
    "Process = Calculate the average of the Exam Scores"
   ]
  },
  {
   "cell_type": "markdown",
   "metadata": {},
   "source": [
    "Output = The average of the exam scores"
   ]
  },
  {
   "cell_type": "markdown",
   "metadata": {},
   "source": [
    "BEGIN\n",
    "\n",
    "    ExamScore=0\n",
    "    ExamCount=0\n",
    "    ExamScoreSum=0\n",
    "    ExamScoreAverage=0\n",
    "    PROMPT User for number of exams scores\n",
    "    GET ExamScoreCount\n",
    "        LOOP Counter <= ExamCount\n",
    "            PROMPT User for an exam score\n",
    "            GET ExamScore\n",
    "            Add ExamScore to ExamScoreSum\n",
    "            Add 1 to Counter\n",
    "        ENDLOOP\n",
    "    ExamScoreAverage = ExamScoreSum Divided By ExamCount\n",
    "    DISPLAY ExamScoreAverage\n",
    "\n",
    " END"
   ]
  },
  {
   "cell_type": "markdown",
   "metadata": {},
   "source": [
    "Test1:\n",
    "\n",
    "ExamCount = 3\n",
    "Exam scores = 12, 15, and 10\n",
    "Sum = 37\n",
    "Average = 12.33\n",
    "\n",
    "Test2:\n",
    "\n",
    "ExamCount = 4\n",
    "Exam scores = 10, 20, 16, 18\n",
    "Sum = 64\n",
    "Average = 16"
   ]
  },
  {
   "cell_type": "markdown",
   "metadata": {},
   "source": [
    "#### 2. How much water runs off a roof in a rain storm?\n",
    "To calculate the runoff from any given rainfall: Take the dimensions of the footprint of the roof and convert them to inches. (So, a 50' x 20' roof is 600\" x 240\"). Multiply the roof dimensions by the number of inches of rainfall. As an example, 600\" x 240\" x 1\" = 144,000 cubic inches of water for an inch of rainfall. Divide that result by 231 to get the number of gallons (because 1 gallon = 231 cubic inches). (144,000/231 = 623.38)."
   ]
  },
  {
   "cell_type": "markdown",
   "metadata": {},
   "source": [
    "INPUT = Roof dimensions and rainfall amount"
   ]
  },
  {
   "cell_type": "markdown",
   "metadata": {},
   "source": [
    "Process = Convert roof dimensions to inches, multiply roof dimensions times eachother and rainfall inches, and divide by 231"
   ]
  },
  {
   "cell_type": "markdown",
   "metadata": {},
   "source": [
    "OUTPUT = Gallons of rainfall runoff"
   ]
  },
  {
   "cell_type": "markdown",
   "metadata": {},
   "source": [
    "BEGIN\n",
    "\n",
    "    RoofLength = 0\n",
    "    RoofWidth = 0\n",
    "    Rainfall = 0\n",
    "    RunOff = 0\n",
    "    PROMPT User for Roof dimensions\n",
    "    GET RoofLength\n",
    "    GET RoofWidth\n",
    "    RoofLenth = RoofLength X 12\n",
    "    RoofWidth = RoofWidth X 12\n",
    "    PROMPT User for Rainfall\n",
    "    GET Rainfall\n",
    "    RunOff = RoofLength X RoofWidth X Rainfall / 231\n",
    "    DISPLAY RunOff\n",
    "\n",
    "END"
   ]
  },
  {
   "cell_type": "markdown",
   "metadata": {},
   "source": [
    "Test1:\n",
    "50'X20' roof wih 1\" rainfall\n",
    "RoofLength = 50X12 = 600\n",
    "RoofWidth = 20X12 = 240\n",
    "RunOff = 600x240x1/231 = 623.38Gal"
   ]
  },
  {
   "cell_type": "markdown",
   "metadata": {},
   "source": [
    "Test2:\n",
    "100'X200' roof wih 2\" rainfall\n",
    "RoofLength = 100X12 = 1200\n",
    "RoofWidth = 200X12 = 2400\n",
    "RunOff = 1200x240x2/231 = 24,935.065Gal"
   ]
  },
  {
   "cell_type": "markdown",
   "metadata": {},
   "source": [
    "#### 3. Process customer record\n",
    "A program is required to read a customer’s name, a purchase amount and a tax code. The tax code has been validated and will be one of the following: 0 tax exempt (0%) 1 state sales tax only (3%) 2 federal and state sales tax (5%) 3 special sales tax (7%) The program must then compute the sales tax and the total amount due,and print the customer’s name, purchase amount, sales tax and total amount due."
   ]
  },
  {
   "cell_type": "markdown",
   "metadata": {},
   "source": [
    "INPUT = Customer's name, purchase amount and tax code"
   ]
  },
  {
   "cell_type": "markdown",
   "metadata": {},
   "source": [
    "PROCESS = calculate the sales tax and total amount due based on the input"
   ]
  },
  {
   "cell_type": "markdown",
   "metadata": {},
   "source": [
    "OUTPUT = the customer's name, purchase amount, sales tax and total amount due"
   ]
  },
  {
   "cell_type": "markdown",
   "metadata": {},
   "source": [
    "BEGIN\n",
    "\n",
    "    CustNam = \"\"\n",
    "    PurAMT = 0\n",
    "    TaxCode = 0\n",
    "    SalesTax = 0\n",
    "    TotalDue = 0\n",
    "    PROMPT User for Customer name, purchase amount, and tax code\n",
    "    GET CustNam\n",
    "    GET PurAMT\n",
    "    GET TaxCode\n",
    "    IF TaxCode is 0\n",
    "        SalesTax = 0\n",
    "    ELSE IF TaxCode is 1\n",
    "        SalesTax = 0.03\n",
    "    ELSE IF TaxCode is 2\n",
    "        SalesTax = 0.05\n",
    "    ELSE IF TaxCode is 3\n",
    "        SalesTax = 0.07\n",
    "    ELSE\n",
    "        Set CustNam = \"ERROR\"\n",
    "    END IF\n",
    "    IF CustNam is \"ERROR\"\n",
    "        DISPLAY CustNam\n",
    "    ELSE\n",
    "        SalesTax = PurAMT X SalesTax\n",
    "        TotalDue = PruAMT + SalesTax\n",
    "        DISPLY CustNam, PurAMT, SalesTax, TotalDue\n",
    "    END IF\n",
    "\n",
    "END"
   ]
  },
  {
   "cell_type": "markdown",
   "metadata": {},
   "source": [
    "TEST1:\n",
    "Customer = \"John\", Purchase amount = $10, tax code =3\n",
    "CustNam = \"John\"\n",
    "SalesTax = $0.07\n",
    "TotalDue = $10.07"
   ]
  },
  {
   "cell_type": "markdown",
   "metadata": {},
   "source": [
    "TEST2:\n",
    "Customer = \"Dave\", Purchase amount = $20, tax code =2\n",
    "CustNam = \"Dave\"\n",
    "SalesTax = $0.10\n",
    "TotalDue = $20.10"
   ]
  },
  {
   "cell_type": "markdown",
   "metadata": {},
   "source": [
    "#### 4. Calculate employee's pay \n",
    "A program is required by a company to read an employee’s number, pay rate and the number of hours worked in a week. The program is then to validate the pay rate field and the hours worked field and, if valid, compute the employee’s weekly pay and then print it and the input data.\n",
    "\n",
    "Validation: According to the company’s rules, the maximum hours an employee can work per week is 60 hours, and the maximum hourly rate is $25.00 per hour. If the hours worked field or the hourly rate field is out of range, the input data and an appropriate message are to be printed and the employee’s weekly pay is not to be calculated.\n",
    "\n",
    "Weekly pay calculation: Weekly pay is calculated as hours worked times pay rate. If more than 35 hours are worked, payment for the overtime hours worked is calculated at time-and-a-half."
   ]
  },
  {
   "cell_type": "markdown",
   "metadata": {},
   "source": [
    "INPUT = Employee number, pay rate, hours worked"
   ]
  },
  {
   "cell_type": "markdown",
   "metadata": {},
   "source": [
    "PROCESS = Validate pay rate and hours; calculate pay if validated, including overtime\n",
    "Valid pay rate <= 25\n",
    "Valid hours worked = <= 60"
   ]
  },
  {
   "cell_type": "markdown",
   "metadata": {},
   "source": [
    "OUTPUT = Weekly Pay (if valid)"
   ]
  },
  {
   "cell_type": "markdown",
   "metadata": {},
   "source": [
    "BEGIN\n",
    "\n",
    "    EmpNum = 0\n",
    "    PayRate = 0\n",
    "    HoursWorked = 0\n",
    "    Pay = 0\n",
    "    Prompt User for Employee number, Pay Rate and Hours Worked\n",
    "    GET EmpNum\n",
    "    GET PayRate\n",
    "    GET HoursWorked\n",
    "    IF HoursWorked > 60\n",
    "        DISPLAY \"Hours Worked is out of range\"\n",
    "        IF PayRate > 25\n",
    "            DISPLAY \"Pay Rate is out of range\"\n",
    "        END IF\n",
    "        DISPLAY EmpNum, HoursWorked, and PayRate\n",
    "    ELSE IF PayRate > 25\n",
    "        DISPLAY \"Pay Rate is out of range\"\n",
    "        DISPLAY EmpNum, HoursWorked, and PayRate\n",
    "    ELSE IF HoursWorked >35\n",
    "        Pay = 35xPayRate + (HoursWorked-35)xPayRatex1.5\n",
    "        DISPLAY EmpNum, HoursWorked, PayRate, Pay\n",
    "    ELSE\n",
    "        Pay = 35xPayRate\n",
    "        DISPLAY EmpNum, HoursWorked, PayRate, Pay\n",
    "    END IF\n",
    "\n",
    "END"
   ]
  },
  {
   "cell_type": "markdown",
   "metadata": {},
   "source": [
    "TEST1:\n",
    "Employee # = 1, Rate = $10/hr, hours = 20\n",
    "EmpNum = 1, HoursWorked = 20, Payrate = 10, Pay = 200\n"
   ]
  },
  {
   "cell_type": "markdown",
   "metadata": {},
   "source": [
    "TEST2:\n",
    "Employee # = 1, Rate = $30/hr, hours = 70\n",
    "EmpNum = 1, HoursWorked = 70, Payrate = 30, Message = \"Hours Worked is out of range. Pay rate is out of range.\"\n"
   ]
  }
 ],
 "metadata": {
  "kernelspec": {
   "display_name": "Python 3 (ipykernel)",
   "language": "python",
   "name": "python3"
  },
  "language_info": {
   "codemirror_mode": {
    "name": "ipython",
    "version": 3
   },
   "file_extension": ".py",
   "mimetype": "text/x-python",
   "name": "python",
   "nbconvert_exporter": "python",
   "pygments_lexer": "ipython3",
   "version": "3.11.7"
  }
 },
 "nbformat": 4,
 "nbformat_minor": 4
}
